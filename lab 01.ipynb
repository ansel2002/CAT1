{
 "cells": [
  {
   "cell_type": "code",
   "execution_count": 2,
   "metadata": {},
   "outputs": [],
   "source": [
    "#write a program to print a name \"n\" times . name and \"n\" will be user inputs \n",
    "\n"
   ]
  },
  {
   "cell_type": "code",
   "execution_count": 6,
   "metadata": {},
   "outputs": [
    {
     "name": "stdout",
     "output_type": "stream",
     "text": [
      "ansel\n",
      "ansel\n",
      "ansel\n",
      "ansel\n",
      "ansel\n",
      "\n"
     ]
    }
   ],
   "source": [
    "n1 = input(\"write your first name\")\n",
    "n2 = int(input(\"enter the number of times : \"))\n",
    "output = (n1+\"\\n\")*n2\n",
    "print(output)"
   ]
  },
  {
   "cell_type": "code",
   "execution_count": 7,
   "metadata": {},
   "outputs": [
    {
     "name": "stdout",
     "output_type": "stream",
     "text": [
      "mia\n",
      "mia\n",
      "mia\n",
      "mia\n",
      "mia\n",
      "mia\n",
      "mia\n",
      "mia\n",
      "mia\n",
      "\n"
     ]
    }
   ],
   "source": [
    "n1 = input(\"write your first name\")\n",
    "n2 = int(input(\"enter the number of times : \"))\n",
    "output = (n1+\"\\n\")*n2\n",
    "print(output)"
   ]
  },
  {
   "cell_type": "code",
   "execution_count": 8,
   "metadata": {},
   "outputs": [
    {
     "name": "stdout",
     "output_type": "stream",
     "text": [
      "joe\n",
      "joe\n",
      "joe\n",
      "joe\n",
      "\n"
     ]
    }
   ],
   "source": [
    "n1 = input(\"write your first name\")\n",
    "n2 = int(input(\"enter the number of times : \"))\n",
    "output = (n1+\"\\n\")*n2\n",
    "print(output)\n"
   ]
  },
  {
   "cell_type": "code",
   "execution_count": null,
   "metadata": {},
   "outputs": [],
   "source": []
  }
 ],
 "metadata": {
  "kernelspec": {
   "display_name": "Python 3",
   "language": "python",
   "name": "python3"
  },
  "language_info": {
   "codemirror_mode": {
    "name": "ipython",
    "version": 3
   },
   "file_extension": ".py",
   "mimetype": "text/x-python",
   "name": "python",
   "nbconvert_exporter": "python",
   "pygments_lexer": "ipython3",
   "version": "3.9.2"
  },
  "orig_nbformat": 4
 },
 "nbformat": 4,
 "nbformat_minor": 2
}
