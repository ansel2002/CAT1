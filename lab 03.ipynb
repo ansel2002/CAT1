{
 "cells": [
  {
   "cell_type": "code",
   "execution_count": 42,
   "metadata": {},
   "outputs": [
    {
     "name": "stdout",
     "output_type": "stream",
     "text": [
      "the sum of total numbers is  54294\n",
      "no. of obeservation is  100\n",
      "the mean is  542.94\n",
      "the min value of the data is  17\n",
      "the max value of the data is  999\n",
      "the range value of the data is 982\n"
     ]
    }
   ],
   "source": [
    "\n",
    "# custom-built functions\n",
    "\n",
    "a = [761, 123, 585, 275, 194, 840, 999, 622, 763, 40, 825, 687, 402, 338, 611, 987, 739, 95, 819, 568, 320, 126, 688, 948, 514, 223, 751, 379, 857, 767, 492, 162, 437, 934, 430, 343, 725, 511, 580, 678, 708, 823, 346, 179, 786, 663, 195, 890, 267, 502, 214, 300, 786, 961, 235, 559, 992, 919, 948, 318, 57, 787, 653, 317, 305, 172, 966, 182, 970, 17, 89, 624, 629, 595, 485, 752, 984, 978, 460, 124, 321, 256, 614, 852, 811, 561, 127, 207, 406, 615, 888, 391, 691, 470, 911, 401, 137, 600, 478, 682]\n",
    "\n",
    "total = 0\n",
    "\n",
    "for lit in a:\n",
    "    total += int(lit)\n",
    "print(\"the sum of total numbers is \",total)\n",
    "\n",
    "\n",
    "\n",
    "count = 0\n",
    "for s in a:\n",
    "    count = count+1\n",
    "print(\"no. of obeservation is \",count)\n",
    "\n",
    "\n",
    "def mean():\n",
    "    m2 = total/count\n",
    "    print(\"the mean is \",m2)\n",
    "\n",
    "\n",
    "mean()\n",
    "\n",
    "\n",
    "def min(t):\n",
    "    min_val= a[0]\n",
    "\n",
    "    for i in t:\n",
    "\n",
    "        if i < min_val:\n",
    "            min_val=i\n",
    "    return min_val\n",
    "      \n",
    "\n",
    "print(\"the min value of the data is \",min(a))     \n",
    "\n",
    "\n",
    "def max(t):\n",
    "    max_val= a[0]\n",
    "\n",
    "    for i in t:\n",
    "\n",
    "        if i > max_val:\n",
    "            max_val=i\n",
    "    return max_val\n",
    "\n",
    "\n",
    "print(\"the max value of the data is \",max(a))   \n",
    "\n",
    "\n",
    "\n",
    "def range2(t):\n",
    "\n",
    "    range_value = max(a) -min(a)\n",
    "\n",
    "    return range_value\n",
    "\n",
    "print(\"the range value of the data is\",range2(a))\n",
    "\n",
    "\n",
    "\n",
    "\n",
    "\n",
    "\n",
    "\n",
    "\n",
    "\n",
    "\n"
   ]
  },
  {
   "cell_type": "code",
   "execution_count": null,
   "metadata": {},
   "outputs": [],
   "source": [
    "#pre- bulit functions\n",
    "\n",
    "print((\"the maximum value number is\"),max(a))\n",
    "print((\"the minimum value number is\",min(a)))\n"
   ]
  },
  {
   "cell_type": "markdown",
   "metadata": {},
   "source": [
    "so people of arthimetica as you can from the above data  , both values from custom functions and pre built functions are showing the same output . therefore we have have proved your statement true . \n",
    "\n",
    "\n",
    "Your sincerely ,\n",
    "\n",
    "Ansel Paul\n",
    "\n",
    "senior data analyst of arthimetica"
   ]
  }
 ],
 "metadata": {
  "kernelspec": {
   "display_name": "Python 3",
   "language": "python",
   "name": "python3"
  },
  "language_info": {
   "codemirror_mode": {
    "name": "ipython",
    "version": 3
   },
   "file_extension": ".py",
   "mimetype": "text/x-python",
   "name": "python",
   "nbconvert_exporter": "python",
   "pygments_lexer": "ipython3",
   "version": "3.9.2"
  },
  "orig_nbformat": 4
 },
 "nbformat": 4,
 "nbformat_minor": 2
}
